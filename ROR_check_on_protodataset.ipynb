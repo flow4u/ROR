{
 "cells": [
  {
   "cell_type": "markdown",
   "metadata": {},
   "source": [
    "# Notebook to check: ROR names exist in Proto-Dataset"
   ]
  },
  {
   "cell_type": "code",
   "execution_count": 1,
   "metadata": {},
   "outputs": [],
   "source": [
    "# constants\n",
    "CONVERTED_DIR = './Converted/'\n",
    "ROR_DIR = './'\n",
    "MISSING_ROR_FILE = 'MISSING_ROR.txt'\n",
    "\n",
    "# list with proto datasset variables that must be checked on institute names\n",
    "INSTITUTE_VARIABLES = ['siteid_transfer']"
   ]
  },
  {
   "cell_type": "code",
   "execution_count": 2,
   "metadata": {},
   "outputs": [],
   "source": [
    "import pandas as pd\n",
    "import generic_functions2 as gf"
   ]
  },
  {
   "cell_type": "code",
   "execution_count": 3,
   "metadata": {},
   "outputs": [
    {
     "name": "stdout",
     "output_type": "stream",
     "text": [
      "******************************\n",
      "Please select the CONVERTED file to check on ROR compliance\n",
      "******************************************************************************************\n",
      "Choose source by number\n",
      "------------------------------------------------------------------------------------------\n",
      "[1]  20220331-105026_emc-proto-covid19.csv   \t[2]  20220330-204118_emc-proto-covid19.csv   \t\n",
      "[3]  20220105-184320_emc-proto-covid19.csv   \t[4]  20211231-174340_emc-proto-covid19.csv   \t\n",
      "[5]  20211231-173837_emc-proto-covid19.csv   \t[6]  20211231-173057_emc-proto-covid19.csv   \t\n",
      "\n",
      "\n"
     ]
    },
    {
     "name": "stdin",
     "output_type": "stream",
     "text": [
      "Please choose Q(uit) or between 1 and 6:  3\n"
     ]
    },
    {
     "name": "stdout",
     "output_type": "stream",
     "text": [
      "20220105-184320_emc-proto-covid19.csv\n",
      "\n",
      "\n",
      "\n",
      "******************************\n",
      "Please select the ROR file to check on ROR compliance\n",
      "******************************************************************************************\n",
      "Choose source by number\n",
      "------------------------------------------------------------------------------------------\n",
      "[1]  uni_ror_NL.csv                          \t\n",
      "\n"
     ]
    },
    {
     "name": "stdin",
     "output_type": "stream",
     "text": [
      "Please choose Q(uit) or between 1 and 1:  1\n"
     ]
    }
   ],
   "source": [
    "## print('\\n'*2)\n",
    "print('*'*30)\n",
    "print('Please select the CONVERTED file to check on ROR compliance')\n",
    "converted_to_check = gf.choose_dir_item(CONVERTED_DIR,'files','csv')\n",
    "print(converted_to_check)\n",
    "\n",
    "print('\\n'*2)\n",
    "print('*'*30)\n",
    "print('Please select the ROR file to check on ROR compliance')\n",
    "ror_to_check = gf.choose_dir_item(ROR_DIR,'files','csv')"
   ]
  },
  {
   "cell_type": "code",
   "execution_count": 4,
   "metadata": {},
   "outputs": [],
   "source": [
    "# create the pandas\n",
    "df = pd.read_csv(CONVERTED_DIR+converted_to_check, low_memory=False)\n",
    "df_ror = pd.read_csv(ROR_DIR+ror_to_check)"
   ]
  },
  {
   "cell_type": "code",
   "execution_count": 5,
   "metadata": {},
   "outputs": [
    {
     "name": "stdout",
     "output_type": "stream",
     "text": [
      "MISSING_ROR.txt is created\n"
     ]
    }
   ],
   "source": [
    "missing = f'{CONVERTED_DIR+converted_to_check} has the following mismatch with ROR:\\n'\n",
    "missing += '-'*80 +'\\n'\n",
    "missing_temp = ''\n",
    "for item in INSTITUTE_VARIABLES:\n",
    "    unique_missing = []\n",
    "    for index, row in df.iterrows():\n",
    "        if row[item] not in df_ror['name'] and row[item] == row[item]:\n",
    "            missing_temp += f'{index}: {item}: {row[item]}\\n'\n",
    "            unique_missing.append(row[item])\n",
    "    missing += f'{item}: {sorted(set(unique_missing))}\\n'\n",
    "\n",
    "missing += '\\n\\n' + missing_temp\n",
    "            \n",
    "with open(MISSING_ROR_FILE, 'w') as file:\n",
    "    file.write(missing)\n",
    "    \n",
    "print(f'{MISSING_ROR_FILE} is created')"
   ]
  }
 ],
 "metadata": {
  "kernelspec": {
   "display_name": "Python 3",
   "language": "python",
   "name": "python3"
  },
  "language_info": {
   "codemirror_mode": {
    "name": "ipython",
    "version": 3
   },
   "file_extension": ".py",
   "mimetype": "text/x-python",
   "name": "python",
   "nbconvert_exporter": "python",
   "pygments_lexer": "ipython3",
   "version": "3.8.6"
  }
 },
 "nbformat": 4,
 "nbformat_minor": 4
}
