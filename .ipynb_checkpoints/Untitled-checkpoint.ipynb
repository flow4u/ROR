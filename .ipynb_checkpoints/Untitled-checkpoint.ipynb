{
 "cells": [
  {
   "cell_type": "code",
   "execution_count": 2,
   "id": "55e55dad-9163-44ba-8b47-3918dd5a7202",
   "metadata": {},
   "outputs": [],
   "source": [
    "import pandas as pd\n",
    "import json"
   ]
  },
  {
   "cell_type": "code",
   "execution_count": 3,
   "id": "f2a8ef79-a7d2-4255-bed8-c20f5c311382",
   "metadata": {},
   "outputs": [],
   "source": [
    "json_file = \"v1.0-2022-03-17-ror-data.json\"\n",
    "with open(json_file) as datafile:\n",
    "  data = json.load(datafile)\n",
    "dataframe = pd.DataFrame(data)"
   ]
  },
  {
   "cell_type": "code",
   "execution_count": 8,
   "id": "833af675-1bf1-42a2-b144-459a7024d333",
   "metadata": {},
   "outputs": [
    {
     "name": "stdout",
     "output_type": "stream",
     "text": [
      "Index(['id', 'name', 'types', 'links', 'aliases', 'acronyms', 'status',\n",
      "       'wikipedia_url', 'labels', 'email_address', 'ip_addresses',\n",
      "       'established', 'country', 'relationships', 'addresses', 'external_ids'],\n",
      "      dtype='object')\n"
     ]
    }
   ],
   "source": [
    "print(dataframe.columns)"
   ]
  },
  {
   "cell_type": "code",
   "execution_count": 14,
   "id": "de211908-09d2-44f2-8189-63a6d8692c89",
   "metadata": {},
   "outputs": [
    {
     "name": "stdout",
     "output_type": "stream",
     "text": [
      "                            id        name         types  \\\n",
      "260  https://ror.org/018906e22  Erasmus MC  [Healthcare]   \n",
      "\n",
      "                          links                              aliases acronyms  \\\n",
      "260  [http://www.erasmusmc.nl/]  [Erasmus University Medical Center]       []   \n",
      "\n",
      "     status                             wikipedia_url labels email_address  \\\n",
      "260  active  https://en.wikipedia.org/wiki/Erasmus_MC     []          None   \n",
      "\n",
      "    ip_addresses  established  \\\n",
      "260           []       2011.0   \n",
      "\n",
      "                                               country  \\\n",
      "260  {'country_code': 'NL', 'country_name': 'Nether...   \n",
      "\n",
      "                                         relationships  \\\n",
      "260  [{'type': 'Related', 'label': 'Erasmus Univers...   \n",
      "\n",
      "                                             addresses  \\\n",
      "260  [{'line': None, 'lat': 51.91, 'lng': 4.4675, '...   \n",
      "\n",
      "                                          external_ids  \n",
      "260  {'ISNI': {'preferred': None, 'all': ['00000004...  \n"
     ]
    }
   ],
   "source": [
    "print(dataframe[dataframe['name'] == 'Erasmus MC'])"
   ]
  },
  {
   "cell_type": "code",
   "execution_count": 24,
   "id": "c663665e-bd42-48f1-a9a1-2ce855909775",
   "metadata": {},
   "outputs": [
    {
     "name": "stdout",
     "output_type": "stream",
     "text": [
      "               id                                              name\n",
      "0       019wvm592                    Australian National University\n",
      "1       02bfwt286                                 Monash University\n",
      "2       00rqy9422                          University of Queensland\n",
      "3       01sf06y89                              Macquarie University\n",
      "4       03r8z3t63                                       UNSW Sydney\n",
      "...           ...                                               ...\n",
      "102554  04y2aw426                                         De Bastei\n",
      "102555  005k57c98                       Udako Euskal Unibertsitatea\n",
      "102556  03zmjc935                                 US Forest Service\n",
      "102557  05cynqq24  Deutsche Gesellschaft für Erziehungswissenschaft\n",
      "102558  01897f782                   Universidad Nacional de Juliaca\n",
      "\n",
      "[102559 rows x 2 columns]\n"
     ]
    },
    {
     "name": "stderr",
     "output_type": "stream",
     "text": [
      "/tmp/ipykernel_32188/2356695637.py:2: SettingWithCopyWarning: \n",
      "A value is trying to be set on a copy of a slice from a DataFrame.\n",
      "Try using .loc[row_indexer,col_indexer] = value instead\n",
      "\n",
      "See the caveats in the documentation: https://pandas.pydata.org/pandas-docs/stable/user_guide/indexing.html#returning-a-view-versus-a-copy\n",
      "  df_temp['id'] = df_temp['id'].str[16:]\n"
     ]
    }
   ],
   "source": [
    "df_temp = dataframe[['id','name']]\n",
    "df_temp['id'] = df_temp['id'].str[16:]\n",
    "print(df_temp)"
   ]
  }
 ],
 "metadata": {
  "kernelspec": {
   "display_name": "Python 3 (ipykernel)",
   "language": "python",
   "name": "python3"
  },
  "language_info": {
   "codemirror_mode": {
    "name": "ipython",
    "version": 3
   },
   "file_extension": ".py",
   "mimetype": "text/x-python",
   "name": "python",
   "nbconvert_exporter": "python",
   "pygments_lexer": "ipython3",
   "version": "3.9.9"
  }
 },
 "nbformat": 4,
 "nbformat_minor": 5
}
