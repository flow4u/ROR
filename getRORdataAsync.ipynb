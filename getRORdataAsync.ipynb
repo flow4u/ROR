{
 "cells": [
  {
   "cell_type": "markdown",
   "id": "ddbd2592-4c5f-4666-903f-df89daabae06",
   "metadata": {},
   "source": [
    "# ROR\n",
    "ROR is a community-led project to develop an open, sustainable, usable, and unique identifier for every research organization in the world.\n",
    "\n",
    "https://ror.org/\n",
    "\n",
    "This Jupyter Lab notebook can fetch the ROR-ID, Name, and Type for all registred organisations of one or more countries asynchronisly (=fast)."
   ]
  },
  {
   "cell_type": "code",
   "execution_count": 1,
   "id": "55e55dad-9163-44ba-8b47-3918dd5a7202",
   "metadata": {},
   "outputs": [
    {
     "name": "stdout",
     "output_type": "stream",
     "text": [
      "Requirement already satisfied: aiohttp in /opt/miniconda3/lib/python3.9/site-packages (3.8.1)\n",
      "Requirement already satisfied: async-timeout<5.0,>=4.0.0a3 in /opt/miniconda3/lib/python3.9/site-packages (from aiohttp) (4.0.2)\n",
      "Requirement already satisfied: yarl<2.0,>=1.0 in /opt/miniconda3/lib/python3.9/site-packages (from aiohttp) (1.7.2)\n",
      "Requirement already satisfied: frozenlist>=1.1.1 in /opt/miniconda3/lib/python3.9/site-packages (from aiohttp) (1.3.0)\n",
      "Requirement already satisfied: multidict<7.0,>=4.5 in /opt/miniconda3/lib/python3.9/site-packages (from aiohttp) (6.0.2)\n",
      "Requirement already satisfied: attrs>=17.3.0 in /opt/miniconda3/lib/python3.9/site-packages (from aiohttp) (21.2.0)\n",
      "Requirement already satisfied: charset-normalizer<3.0,>=2.0 in /opt/miniconda3/lib/python3.9/site-packages (from aiohttp) (2.0.10)\n",
      "Requirement already satisfied: aiosignal>=1.1.2 in /opt/miniconda3/lib/python3.9/site-packages (from aiohttp) (1.2.0)\n",
      "Requirement already satisfied: idna>=2.0 in /opt/miniconda3/lib/python3.9/site-packages (from yarl<2.0,>=1.0->aiohttp) (3.1)\n"
     ]
    }
   ],
   "source": [
    "import pandas as pd\n",
    "import json\n",
    "import requests\n",
    "import math\n",
    "!pip install aiohttp\n",
    "import asyncio\n",
    "import aiohttp\n",
    "from timeit import default_timer"
   ]
  },
  {
   "cell_type": "code",
   "execution_count": 2,
   "id": "f2a8ef79-a7d2-4255-bed8-c20f5c311382",
   "metadata": {},
   "outputs": [],
   "source": [
    "# Country_Code is used to create the ROR list for specific country\n",
    "# ROR API: https://ror.readme.io/docs/rest-api\n",
    "# Country_Code is not optional, this script works with a list of countries e.g.: COUNTRIES = ['NL', 'BE', 'UK']\n",
    "COUNTRIES = ['NL', 'BE']\n",
    "ROR_URL = 'https://api.ror.org/organizations?filter=country.country_code:'"
   ]
  },
  {
   "cell_type": "code",
   "execution_count": 3,
   "id": "754b39bd-ae1f-47b7-a081-b1929cd85340",
   "metadata": {},
   "outputs": [
    {
     "name": "stdout",
     "output_type": "stream",
     "text": [
      "Fetching all the ROR-ids for NL and BE\n",
      "Completed in:  8.93s\n"
     ]
    }
   ],
   "source": [
    "def nice_list(list):\n",
    "    return f'{\", \".join(COUNTRIES[:-1])}'+ ' and '*(len(COUNTRIES)>1) + f'{COUNTRIES[-1]}'\n",
    "\n",
    "async def getRORpages2(url,countries):\n",
    "    country_pages = {}\n",
    "    async with aiohttp.ClientSession() as session:\n",
    "        for country in countries:\n",
    "            url3 = url+country\n",
    "            response = await session.get(url3, ssl=False)\n",
    "            country_pages[country] = math.ceil((await response.json())['number_of_results']/20)\n",
    "    return country_pages\n",
    "\n",
    "\n",
    "async def getROR3(url, countries):\n",
    "    results = []\n",
    "    country_pages = await getRORpages2(url,countries)\n",
    "    async with aiohttp.ClientSession() as session:\n",
    "        for country in countries:\n",
    "            for page in range(1, country_pages[country]+1):\n",
    "                url2 = url+country+'&page='+str(page)\n",
    "                response = await session.get(url2, ssl=False)\n",
    "                results.append((await response.json())['items'])\n",
    "    return results\n",
    "\n",
    "\n",
    "start_time = default_timer()\n",
    "print(f'Fetching all the ROR-ids for {nice_list(COUNTRIES)}')\n",
    "ror_list4 = await getROR3(ROR_URL, COUNTRIES)\n",
    "print(f\"Completed in: {(default_timer() - start_time):5.2f}s\")"
   ]
  },
  {
   "cell_type": "code",
   "execution_count": 4,
   "id": "c663665e-bd42-48f1-a9a1-2ce855909775",
   "metadata": {
    "tags": []
   },
   "outputs": [],
   "source": [
    "# flatten the ror_list and create dataframe\n",
    "flat_list = [item for sublist in ror_list4 for item in sublist]\n",
    "dataframe = pd.DataFrame(flat_list)"
   ]
  },
  {
   "cell_type": "code",
   "execution_count": 5,
   "id": "fca9c38c-3401-4462-8782-6008cd120561",
   "metadata": {},
   "outputs": [],
   "source": [
    "# create a copy with only id and name\n",
    "df_temp = dataframe[['id','name', 'types', 'country', 'aliases', 'addresses', 'email_address']].copy()\n",
    "\n",
    "# add a new column with ror_id only, id has a hyperlink as id\n",
    "df_temp['ror_id'] = df_temp['id'].str[16:]"
   ]
  },
  {
   "cell_type": "code",
   "execution_count": 6,
   "id": "d7ddea34-52de-4b37-91ee-903554b66ff8",
   "metadata": {},
   "outputs": [],
   "source": [
    "# create dictionaries, not really used here, but can be copies and used\n",
    "# in scripts\n",
    "dict_ror_name = {}\n",
    "dict_name_ror = {}\n",
    "for name, ror_id in zip(df_temp['name'], df_temp['ror_id']):\n",
    "    dict_ror_name[ror_id] = name\n",
    "    dict_name_ror[name] = ror_id"
   ]
  },
  {
   "cell_type": "code",
   "execution_count": 7,
   "id": "1ce77767-f222-46cd-bacc-dac1c95bae3b",
   "metadata": {},
   "outputs": [
    {
     "name": "stdout",
     "output_type": "stream",
     "text": [
      "018906e22\n"
     ]
    }
   ],
   "source": [
    "# Check if it works\n",
    "# print(dict_ror_name['01pmm8272'])\n",
    "print(dict_name_ror['Erasmus MC'])"
   ]
  },
  {
   "cell_type": "code",
   "execution_count": 8,
   "id": "41eee3d5-7d60-4c79-915c-beeaaa7b7380",
   "metadata": {},
   "outputs": [],
   "source": [
    "# remove 'id' before saving the dataframe to CSV\n",
    "df_temp.drop('id', axis=1, inplace=True)"
   ]
  },
  {
   "cell_type": "code",
   "execution_count": 9,
   "id": "bcd3c883-1674-4397-88c6-94f03a5f73ec",
   "metadata": {},
   "outputs": [],
   "source": [
    "# save to CSV\n",
    "COUNTRIES2 = '_'.join(COUNTRIES)\n",
    "df_temp.to_csv('uni_ror_'+COUNTRIES2+'.csv')"
   ]
  },
  {
   "cell_type": "code",
   "execution_count": 10,
   "id": "b208c2be-965d-4aa1-8246-97780eabaa8c",
   "metadata": {},
   "outputs": [],
   "source": [
    "# import ROR CSV into dictionaries\n",
    "# Country_Code is not optional, this script works only per country\n",
    "COUNTRY_CODE = 'NL'\n",
    "dict_ror_name = {}\n",
    "dict_name_ror = {}\n",
    "df_ror = pd.read_csv('uni_ror_'+COUNTRY_CODE+'.csv')\n",
    "for name, ror_id in zip(df_ror['name'], df_ror['ror_id']):\n",
    "    dict_ror_name[ror_id] = name\n",
    "    dict_name_ror[name] = ror_id\n"
   ]
  }
 ],
 "metadata": {
  "kernelspec": {
   "display_name": "Python 3 (ipykernel)",
   "language": "python",
   "name": "python3"
  },
  "language_info": {
   "codemirror_mode": {
    "name": "ipython",
    "version": 3
   },
   "file_extension": ".py",
   "mimetype": "text/x-python",
   "name": "python",
   "nbconvert_exporter": "python",
   "pygments_lexer": "ipython3",
   "version": "3.9.9"
  }
 },
 "nbformat": 4,
 "nbformat_minor": 5
}
