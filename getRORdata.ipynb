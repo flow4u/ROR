{
 "cells": [
  {
   "cell_type": "markdown",
   "id": "ddbd2592-4c5f-4666-903f-df89daabae06",
   "metadata": {},
   "source": [
    "# ROR\n",
    "ROR is a community-led project to develop an open, sustainable, usable, and unique identifier for every research organization in the world.\n",
    "\n",
    "https://ror.org/\n",
    "\n",
    "This Jupyter Lab notebook can fetch the ROR-ID, Name, and Type for all registred organisations of one"
   ]
  },
  {
   "cell_type": "code",
   "execution_count": 1,
   "id": "55e55dad-9163-44ba-8b47-3918dd5a7202",
   "metadata": {},
   "outputs": [],
   "source": [
    "import pandas as pd\n",
    "import json\n",
    "import requests\n",
    "import math"
   ]
  },
  {
   "cell_type": "code",
   "execution_count": 2,
   "id": "f2a8ef79-a7d2-4255-bed8-c20f5c311382",
   "metadata": {},
   "outputs": [],
   "source": [
    "# Country_Code is used to create the ROR list for specific country\n",
    "# ROR API: https://ror.readme.io/docs/rest-api\n",
    "# Country_Code is not optional, this script works only per country\n",
    "COUNTRY_CODE = 'NL'"
   ]
  },
  {
   "cell_type": "code",
   "execution_count": 3,
   "id": "833af675-1bf1-42a2-b144-459a7024d333",
   "metadata": {},
   "outputs": [
    {
     "name": "stdout",
     "output_type": "stream",
     "text": [
      "For COUNTRY_CODE=NL, 81 pages must be fetched\n"
     ]
    }
   ],
   "source": [
    "# getting data from ror API to find how many pages must be queried\n",
    "r = requests.get('https://api.ror.org/organizations?filter=country.country_code:'+COUNTRY_CODE)\n",
    "r.json()\n",
    "ror_text = json.loads(r.text)\n",
    "pages = math.ceil(ror_text['number_of_results']/20)\n",
    "print(f'For COUNTRY_CODE={COUNTRY_CODE:}, {pages:} pages must be fetched')\n"
   ]
  },
  {
   "cell_type": "code",
   "execution_count": 4,
   "id": "de211908-09d2-44f2-8189-63a6d8692c89",
   "metadata": {},
   "outputs": [],
   "source": [
    "# iterate over all pages and append the result to ror_list\n",
    "ror_list = []\n",
    "for page in range(1, pages+1):\n",
    "    # print(page)\n",
    "    r = requests.get('https://api.ror.org/organizations?filter=country.country_code:'+COUNTRY_CODE+'&page='+str(page))\n",
    "    r.json()\n",
    "    ror_text = json.loads(r.text)\n",
    "    ror_list.append(ror_text['items'])\n",
    "    # df = df.append(pd.DataFrame(ror_text['items']), ignore_index=True)\n",
    "# print(ror_list)"
   ]
  },
  {
   "cell_type": "code",
   "execution_count": 5,
   "id": "c663665e-bd42-48f1-a9a1-2ce855909775",
   "metadata": {},
   "outputs": [],
   "source": [
    "# flatten the ror_list and create dataframe\n",
    "flat_list = [item for sublist in ror_list for item in sublist]\n",
    "dataframe = pd.DataFrame(flat_list)"
   ]
  },
  {
   "cell_type": "code",
   "execution_count": 6,
   "id": "fca9c38c-3401-4462-8782-6008cd120561",
   "metadata": {},
   "outputs": [],
   "source": [
    "# create a copy with only id and name\n",
    "df_temp = dataframe[['id','name', 'types', 'country', 'aliases', 'addresses', 'email_address']].copy()\n",
    "\n",
    "# add a new column with ror_id only, id has a hyperlink as id\n",
    "df_temp['ror_id'] = df_temp['id'].str[16:]"
   ]
  },
  {
   "cell_type": "code",
   "execution_count": 7,
   "id": "d7ddea34-52de-4b37-91ee-903554b66ff8",
   "metadata": {},
   "outputs": [],
   "source": [
    "# create dictionaries, not really used here, but can be copies and used\n",
    "# in scripts\n",
    "dict_ror_name = {}\n",
    "dict_name_ror = {}\n",
    "for name, ror_id in zip(df_temp['name'], df_temp['ror_id']):\n",
    "    dict_ror_name[ror_id] = name\n",
    "    dict_name_ror[name] = ror_id"
   ]
  },
  {
   "cell_type": "code",
   "execution_count": 8,
   "id": "1ce77767-f222-46cd-bacc-dac1c95bae3b",
   "metadata": {},
   "outputs": [
    {
     "name": "stdout",
     "output_type": "stream",
     "text": [
      "018906e22\n"
     ]
    }
   ],
   "source": [
    "# Check if it works\n",
    "# print(dict_ror_name['01pmm8272'])\n",
    "print(dict_name_ror['Erasmus MC'])"
   ]
  },
  {
   "cell_type": "code",
   "execution_count": 9,
   "id": "41eee3d5-7d60-4c79-915c-beeaaa7b7380",
   "metadata": {},
   "outputs": [],
   "source": [
    "# remove 'id' before saving the dataframe to CSV\n",
    "df_temp.drop('id', axis=1, inplace=True)"
   ]
  },
  {
   "cell_type": "code",
   "execution_count": 10,
   "id": "bcd3c883-1674-4397-88c6-94f03a5f73ec",
   "metadata": {},
   "outputs": [],
   "source": [
    "# save to CSV\n",
    "df_temp.to_csv('uni_ror_'+COUNTRY_CODE+'.csv')"
   ]
  },
  {
   "cell_type": "code",
   "execution_count": 11,
   "id": "b208c2be-965d-4aa1-8246-97780eabaa8c",
   "metadata": {},
   "outputs": [],
   "source": [
    "# import ROR CSV into dictionaries\n",
    "# Country_Code is not optional, this script works only per country\n",
    "COUNTRY_CODE = 'NL'\n",
    "dict_ror_name = {}\n",
    "dict_name_ror = {}\n",
    "df_temp = pd.read_csv('uni_ror_'+COUNTRY_CODE+'.csv')\n",
    "for name, ror_id in zip(df_temp['name'], df_temp['ror_id']):\n",
    "    dict_ror_name[ror_id] = name\n",
    "    dict_name_ror[name] = ror_id\n"
   ]
  },
  {
   "cell_type": "code",
   "execution_count": null,
   "id": "e0d019d9-a9c0-4efe-957c-869be95b53b9",
   "metadata": {},
   "outputs": [],
   "source": []
  }
 ],
 "metadata": {
  "kernelspec": {
   "display_name": "Python 3 (ipykernel)",
   "language": "python",
   "name": "python3"
  },
  "language_info": {
   "codemirror_mode": {
    "name": "ipython",
    "version": 3
   },
   "file_extension": ".py",
   "mimetype": "text/x-python",
   "name": "python",
   "nbconvert_exporter": "python",
   "pygments_lexer": "ipython3",
   "version": "3.9.9"
  }
 },
 "nbformat": 4,
 "nbformat_minor": 5
}
